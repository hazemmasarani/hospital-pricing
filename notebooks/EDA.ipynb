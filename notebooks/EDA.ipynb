{
 "cells": [
  {
   "cell_type": "code",
   "execution_count": 1,
   "id": "e1b71a91",
   "metadata": {},
   "outputs": [],
   "source": [
    "import sqlite3"
   ]
  },
  {
   "cell_type": "code",
   "execution_count": 2,
   "id": "2a3bce04",
   "metadata": {},
   "outputs": [],
   "source": [
    "conn = sqlite3.connect('../data/hospital.db')"
   ]
  },
  {
   "cell_type": "code",
   "execution_count": 3,
   "id": "761f748c",
   "metadata": {},
   "outputs": [
    {
     "name": "stdout",
     "output_type": "stream",
     "text": [
      "(1, 'Mount Sinai Brooklyn', 'NY', 'Kings', 'Liver Transplant', '0011', 'APR-DRG', 'inpatient', None, None, 'Metroplus', 'Metroplus Medicaid', None, None, None, '201811.76')\n",
      "(2, 'Mount Sinai Brooklyn', 'NY', 'Kings', 'Liver Transplant', '0011', 'APR-DRG', 'inpatient', None, None, 'Metroplus', 'Metroplus Essential Plan 1 & 2', None, None, None, '201811.76')\n",
      "(3, 'Mount Sinai Brooklyn', 'NY', 'Kings', 'Liver Transplant', '0011', 'APR-DRG', 'inpatient', None, None, 'Affinity', 'Essential Plans 3-4', None, None, None, '201811.76')\n",
      "(4, 'Mount Sinai Brooklyn', 'NY', 'Kings', 'Liver Transplant', '0011', 'APR-DRG', 'inpatient', None, None, 'Metroplus', 'Metroplus Essential Plan 3 & 4', None, None, None, '201811.76')\n",
      "(5, 'Mount Sinai Brooklyn', 'NY', 'Kings', 'Liver Transplant', '0011', 'APR-DRG', 'inpatient', None, None, 'Emblem', 'Medicaid', None, None, None, '201811.76')\n",
      "(6, 'Mount Sinai Brooklyn', 'NY', 'Kings', 'Liver Transplant', '0011', 'APR-DRG', 'inpatient', None, None, 'Amida Care', 'Amida Care Medicaid Managed Care', None, None, None, '201811.76')\n",
      "(7, 'Mount Sinai Brooklyn', 'NY', 'Kings', 'Liver Transplant', '0011', 'APR-DRG', 'inpatient', None, None, 'Empire Healthplus ', 'Essential Plan 1-2', None, None, None, '201811.76')\n",
      "(8, 'Mount Sinai Brooklyn', 'NY', 'Kings', 'Liver Transplant', '0011', 'APR-DRG', 'inpatient', None, None, 'Empire Healthplus ', 'Essential Plan 3-4', None, None, None, '201811.76')\n",
      "(9, 'Mount Sinai Brooklyn', 'NY', 'Kings', 'Liver Transplant', '0011', 'APR-DRG', 'inpatient', None, None, 'VNS', 'Select Health Medicaid', None, None, None, '201811.76')\n",
      "(10, 'Mount Sinai Brooklyn', 'NY', 'Kings', 'Liver Transplant', '0011', 'APR-DRG', 'inpatient', None, None, 'Emblem', 'Essential Plan 1-2', None, None, None, '201811.76')\n",
      "(11, 'Mount Sinai Brooklyn', 'NY', 'Kings', 'Liver Transplant', '0011', 'APR-DRG', 'inpatient', None, None, 'Affinity', 'Essential Plans 1-2', None, None, None, '201811.76')\n",
      "(12, 'Mount Sinai Brooklyn', 'NY', 'Kings', 'Liver Transplant', '0011', 'APR-DRG', 'inpatient', None, None, 'HealthFirst', 'HealthFirst QHP - EP 1&2', None, None, None, '201811.76')\n",
      "(13, 'Mount Sinai Brooklyn', 'NY', 'Kings', 'Liver Transplant', '0011', 'APR-DRG', 'inpatient', None, None, 'HealthFirst', 'Medicaid - Essential Plans 3 & 4', None, None, None, '201811.76')\n",
      "(14, 'Mount Sinai Brooklyn', 'NY', 'Kings', 'Liver Transplant', '0011', 'APR-DRG', 'inpatient', None, None, 'Emblem', 'Essential Plan 3-4', None, None, None, '201811.76')\n",
      "(15, 'Mount Sinai Brooklyn', 'NY', 'Kings', 'Liver Transplant', '0011', 'APR-DRG', 'inpatient', None, None, 'Affinity', 'Affinity Medicaid, HARP, CHIP', None, None, None, '201811.76')\n",
      "(16, 'Mount Sinai Brooklyn', 'NY', 'Kings', 'Liver Transplant', '0011', 'APR-DRG', 'inpatient', None, None, 'Fidelis', 'Fidelis Essential Plan 3 & 4', None, None, None, '201811.76')\n",
      "(17, 'Mount Sinai Brooklyn', 'NY', 'Kings', 'Liver Transplant', '0011', 'APR-DRG', 'inpatient', None, None, 'Fidelis', 'Medicaid', None, None, None, '201811.76')\n",
      "(18, 'Mount Sinai Brooklyn', 'NY', 'Kings', 'Liver Transplant', '0011', 'APR-DRG', 'inpatient', None, None, 'Fidelis', 'Fidelis Essential Plan 1 & 2', None, None, None, '201811.76')\n",
      "(19, 'Mount Sinai Brooklyn', 'NY', 'Kings', 'Liver Transplant', '0011', 'APR-DRG', 'inpatient', None, None, 'Empire Healthplus ', 'Medicaid', None, None, None, '201811.76')\n",
      "(20, 'Mount Sinai Brooklyn', 'NY', 'Kings', 'Liver Transplant', '0012', 'APR-DRG', 'inpatient', None, None, 'Fidelis', 'Medicaid', None, None, None, '205652.82')\n",
      "(21, 'Mount Sinai Brooklyn', 'NY', 'Kings', 'Liver Transplant', '0012', 'APR-DRG', 'inpatient', None, None, 'Affinity', 'Essential Plans 1-2', None, None, None, '205652.82')\n",
      "(22, 'Mount Sinai Brooklyn', 'NY', 'Kings', 'Liver Transplant', '0012', 'APR-DRG', 'inpatient', None, None, 'Emblem', 'Essential Plan 3-4', None, None, None, '205652.82')\n",
      "(23, 'Mount Sinai Brooklyn', 'NY', 'Kings', 'Liver Transplant', '0012', 'APR-DRG', 'inpatient', None, None, 'Empire Healthplus ', 'Medicaid', None, None, None, '205652.82')\n",
      "(24, 'Mount Sinai Brooklyn', 'NY', 'Kings', 'Liver Transplant', '0012', 'APR-DRG', 'inpatient', None, None, 'Fidelis', 'Fidelis Essential Plan 1 & 2', None, None, None, '205652.82')\n",
      "(25, 'Mount Sinai Brooklyn', 'NY', 'Kings', 'Liver Transplant', '0012', 'APR-DRG', 'inpatient', None, None, 'Affinity', 'Essential Plans 3-4', None, None, None, '205652.82')\n",
      "(26, 'Mount Sinai Brooklyn', 'NY', 'Kings', 'Liver Transplant', '0012', 'APR-DRG', 'inpatient', None, None, 'HealthFirst', 'HealthFirst QHP - EP 1&2', None, None, None, '205652.82')\n",
      "(27, 'Mount Sinai Brooklyn', 'NY', 'Kings', 'Liver Transplant', '0012', 'APR-DRG', 'inpatient', None, None, 'VNS', 'Select Health Medicaid', None, None, None, '205652.82')\n",
      "(28, 'Mount Sinai Brooklyn', 'NY', 'Kings', 'Liver Transplant', '0012', 'APR-DRG', 'inpatient', None, None, 'Fidelis', 'Fidelis Essential Plan 3 & 4', None, None, None, '205652.82')\n",
      "(29, 'Mount Sinai Brooklyn', 'NY', 'Kings', 'Liver Transplant', '0012', 'APR-DRG', 'inpatient', None, None, 'Emblem', 'Essential Plan 1-2', None, None, None, '205652.82')\n",
      "(30, 'Mount Sinai Brooklyn', 'NY', 'Kings', 'Liver Transplant', '0012', 'APR-DRG', 'inpatient', None, None, 'Affinity', 'Affinity Medicaid, HARP, CHIP', None, None, None, '205652.82')\n"
     ]
    }
   ],
   "source": [
    "cursor = conn.cursor()\n",
    "cursor.execute(\"SELECT * FROM hospital_prices LIMIT 30;\")\n",
    "rows = cursor.fetchall()\n",
    "for row in rows:\n",
    "    print(row)"
   ]
  },
  {
   "cell_type": "code",
   "execution_count": 4,
   "id": "41d74fc7",
   "metadata": {},
   "outputs": [
    {
     "name": "stdout",
     "output_type": "stream",
     "text": [
      "Total rows in hospital_prices: 50062670\n"
     ]
    }
   ],
   "source": [
    "cursor.execute(\"SELECT count(*) FROM hospital_prices;\")\n",
    "count = cursor.fetchone()[0]\n",
    "print(f\"Total rows in hospital_prices: {count}\")\n"
   ]
  },
  {
   "cell_type": "code",
   "execution_count": 5,
   "id": "417edb67",
   "metadata": {},
   "outputs": [
    {
     "name": "stdout",
     "output_type": "stream",
     "text": [
      "Total distinct hospitals in hospital_prices: 6\n"
     ]
    }
   ],
   "source": [
    "cursor.execute(\"SELECT count(DISTINCT hospital_name) FROM hospital_prices;\")\n",
    "distinct_count = cursor.fetchone()[0]\n",
    "print(f\"Total distinct hospitals in hospital_prices: {distinct_count}\")\n"
   ]
  },
  {
   "cell_type": "code",
   "execution_count": 6,
   "id": "ae4a7917",
   "metadata": {},
   "outputs": [
    {
     "name": "stdout",
     "output_type": "stream",
     "text": [
      "Mount Sinai Brooklyn\n",
      "Mount Sinai Hospital\n",
      "Mount Sinai Queens\n",
      "Mount Sinai Morningside\n",
      "Howard County General Hospital\n",
      "Johns Hopkins Hospital\n"
     ]
    }
   ],
   "source": [
    "cursor.execute(\"SELECT DISTINCT hospital_name FROM hospital_prices;\")\n",
    "distinct_hospitals = cursor.fetchall()\n",
    "for hospital in distinct_hospitals:\n",
    "    print(hospital[0])"
   ]
  },
  {
   "cell_type": "code",
   "execution_count": 7,
   "id": "7d274482",
   "metadata": {},
   "outputs": [
    {
     "name": "stdout",
     "output_type": "stream",
     "text": [
      "Hospital: Mount Sinai Brooklyn, Procedures: 13097687\n",
      "Hospital: Mount Sinai Morningside, Procedures: 12653237\n",
      "Hospital: Mount Sinai Hospital, Procedures: 12289559\n",
      "Hospital: Mount Sinai Queens, Procedures: 11977589\n",
      "Hospital: Johns Hopkins Hospital, Procedures: 31222\n",
      "Hospital: Howard County General Hospital, Procedures: 13376\n"
     ]
    }
   ],
   "source": [
    "cursor.execute(\"SELECT hospital_name, COUNT(*) FROM hospital_prices GROUP BY hospital_name ORDER BY COUNT(*) DESC;\")\n",
    "hospital_procedures_count = cursor.fetchall()\n",
    "for hospital, count in hospital_procedures_count:\n",
    "    print(f\"Hospital: {hospital}, Procedures: {count}\")"
   ]
  },
  {
   "cell_type": "code",
   "execution_count": 8,
   "id": "e72e204a",
   "metadata": {},
   "outputs": [
    {
     "name": "stdout",
     "output_type": "stream",
     "text": [
      "(0, 'id', 'INTEGER', 0, None, 1)\n",
      "(1, 'hospital_name', 'TEXT', 0, None, 0)\n",
      "(2, 'state', 'TEXT', 0, None, 0)\n",
      "(3, 'county', 'TEXT', 0, None, 0)\n",
      "(4, 'procedure_name', 'TEXT', 0, None, 0)\n",
      "(5, 'code', 'TEXT', 0, None, 0)\n",
      "(6, 'code_type', 'TEXT', 0, None, 0)\n",
      "(7, 'setting', 'TEXT', 0, None, 0)\n",
      "(8, 'cash_price', 'REAL', 0, None, 0)\n",
      "(9, 'cash_discount', 'REAL', 0, None, 0)\n",
      "(10, 'payer', 'TEXT', 0, None, 0)\n",
      "(11, 'plan', 'TEXT', 0, None, 0)\n",
      "(12, 'allowed_amount', 'REAL', 0, None, 0)\n",
      "(13, 'min_negotiated_price', 'REAL', 0, None, 0)\n",
      "(14, 'max_negotiated_price', 'REAL', 0, None, 0)\n",
      "(15, 'rate_type', 'TEXT', 0, None, 0)\n"
     ]
    }
   ],
   "source": [
    "cursor.execute(\"PRAGMA table_info(hospital_prices);\")\n",
    "schema_info = cursor.fetchall()\n",
    "for column in schema_info:\n",
    "    print(column)"
   ]
  },
  {
   "cell_type": "code",
   "execution_count": 9,
   "id": "6519068e",
   "metadata": {},
   "outputs": [
    {
     "name": "stdout",
     "output_type": "stream",
     "text": [
      "Hospital: Mount Sinai Brooklyn,\t\tDistinct Procedures: 183614,\t\tDistinct Codes: 45563\n",
      "Hospital: Mount Sinai Hospital,\t\tDistinct Procedures: 181570,\t\tDistinct Codes: 43436\n",
      "Hospital: Mount Sinai Queens,\t\tDistinct Procedures: 179498,\t\tDistinct Codes: 41804\n",
      "Hospital: Mount Sinai Morningside,\t\tDistinct Procedures: 179251,\t\tDistinct Codes: 41036\n",
      "Hospital: Johns Hopkins Hospital,\t\tDistinct Procedures: 7100,\t\tDistinct Codes: 10562\n",
      "Hospital: Howard County General Hospital,\t\tDistinct Procedures: 4908,\t\tDistinct Codes: 6284\n"
     ]
    }
   ],
   "source": [
    "cursor.execute(\"SELECT hospital_name, COUNT(DISTINCT procedure_name), COUNT(DISTINCT(code)) FROM hospital_prices GROUP BY hospital_name ORDER BY COUNT(DISTINCT procedure_name) DESC;\")\n",
    "hospital_procedure_variety = cursor.fetchall()\n",
    "for hospital, variety, code_count in hospital_procedure_variety:\n",
    "    print(f\"Hospital: {hospital},\\t\\tDistinct Procedures: {variety},\\t\\tDistinct Codes: {code_count}\")"
   ]
  },
  {
   "cell_type": "code",
   "execution_count": 10,
   "id": "2b09c20d",
   "metadata": {},
   "outputs": [
    {
     "name": "stdout",
     "output_type": "stream",
     "text": [
      "Hospital: Mount Sinai Brooklyn\t, Total Spending: $52720M\n",
      "Hospital: Mount Sinai Morningside\t, Total Spending: $50281M\n",
      "Hospital: Mount Sinai Hospital\t, Total Spending: $29116M\n",
      "Hospital: Mount Sinai Queens\t, Total Spending: $28440M\n",
      "Hospital: Johns Hopkins Hospital\t, Total Spending: $13M\n",
      "Hospital: Howard County General Hospital\t, Total Spending: $2M\n"
     ]
    }
   ],
   "source": [
    "cursor.execute(\"SELECT hospital_name, CAST(SUM(cash_price) AS INTEGER)/1000000 FROM hospital_prices GROUP BY hospital_name ORDER BY SUM(cash_price) DESC;\")\n",
    "hospital_spending = cursor.fetchall()\n",
    "for hospital, total in hospital_spending:\n",
    "    print(f\"Hospital: {hospital}\\t, Total Spending: ${total}M\")"
   ]
  },
  {
   "cell_type": "code",
   "execution_count": 11,
   "id": "b75a1565",
   "metadata": {},
   "outputs": [
    {
     "name": "stdout",
     "output_type": "stream",
     "text": [
      "(10865913, 'Mount Sinai Brooklyn', 'NY', 'Kings', 'HC Carvykti 70 Ml Bag Car T', 'BBC9399001', 'CDM', 'inpatient', 2035537.5, None, 'Multiplan', 'Complementary Network', None, 77.0, None, '1628430.0')\n",
      "(10865914, 'Mount Sinai Brooklyn', 'NY', 'Kings', 'HC Carvykti 70 Ml Bag Car T', 'BBC9399001', 'CDM', 'inpatient', 2035537.5, None, 'Magnacare', 'JIB', None, 72.0, None, '1628430.0')\n",
      "(10865915, 'Mount Sinai Brooklyn', 'NY', 'Kings', 'HC Carvykti 70 Ml Bag Car T', 'BBC9399001', 'CDM', 'inpatient', 2035537.5, None, 'Magnacare', 'Preferred', None, 76.0, None, '1628430.0')\n",
      "(10865916, 'Mount Sinai Brooklyn', 'NY', 'Kings', 'HC Carvykti 70 Ml Bag Car T', 'BBC9399001', 'CDM', 'inpatient', 2035537.5, None, 'Magnacare', 'Standard', None, 80.0, None, '1628430.0')\n",
      "(10865917, 'Mount Sinai Brooklyn', 'NY', 'Kings', 'HC Carvykti 70 Ml Bag Car T', 'BBC9399001', 'CDM', 'inpatient', 2035537.5, None, 'Multiplan', 'Primary Network', None, 77.0, None, '1628430.0')\n",
      "(10865918, 'Mount Sinai Brooklyn', 'NY', 'Kings', 'HC Carvykti 70 Ml Bag Car T', 'BBC9399001', 'CDM', 'inpatient', 2035537.5, None, 'Emblem', 'GHI Network Access', None, 80.0, None, '1628430.0')\n",
      "(10865919, 'Mount Sinai Brooklyn', 'NY', 'Kings', 'HC Carvykti 70 Ml Bag Car T', 'BBC9399001', 'CDM', 'outpatient', 2035537.5, None, 'Metroplus', 'Metroplus Essential Plan 1 & 2', None, None, None, '9.7')\n",
      "(10865920, 'Mount Sinai Brooklyn', 'NY', 'Kings', 'HC Carvykti 70 Ml Bag Car T', 'BBC9399001', 'CDM', 'outpatient', 2035537.5, None, 'Metroplus', 'Medicare', None, None, None, '9.7')\n",
      "(10865921, 'Mount Sinai Brooklyn', 'NY', 'Kings', 'HC Carvykti 70 Ml Bag Car T', 'BBC9399001', 'CDM', 'outpatient', 2035537.5, None, 'Metroplus', 'Exchange', None, None, None, '9.7')\n",
      "(10865922, 'Mount Sinai Brooklyn', 'NY', 'Kings', 'HC Carvykti 70 Ml Bag Car T', 'BBC9399001', 'CDM', 'outpatient', 2035537.5, None, 'Metroplus', 'Metroplus Essential Plan 3 & 4', None, None, None, '3589.1')\n"
     ]
    }
   ],
   "source": [
    "cursor.execute(\"SELECT * FROM hospital_prices ORDER BY cash_price DESC LIMIT 10;\")\n",
    "top_hospital_prices = cursor.fetchall()\n",
    "for row in top_hospital_prices:\n",
    "    print(row)"
   ]
  },
  {
   "cell_type": "code",
   "execution_count": 12,
   "id": "c039593b",
   "metadata": {},
   "outputs": [
    {
     "name": "stdout",
     "output_type": "stream",
     "text": [
      "('HC Carvykti 70 Ml Bag Car T', 2035537.5)\n",
      "('HC Carvykti 30 Ml Bag Car T', 2035537.5)\n",
      "('HC Kymriah Peds Car-POS T', 1359568.75)\n",
      "('HC Abecma Car T Cell per Infus', 1143137.5)\n",
      "('HC Breyanzi Car T Cell per Infus', 1118067.5)\n",
      "('HC Kymriah Adult Car-POS T', 1067619.25)\n",
      "('HC Yescarta Car T Cell per Infus', 1060000.0)\n",
      "('HC Tecartus Car-T Cell per Bag', 1060000.0)\n",
      "('HC Multivisceral Organ Transplan', 638778.0)\n",
      "('KIT IMPLANT HEART ARTIFICIAL TEMP DEVICE 50CC ALIASES: 570500-001 570500-00 570500 57050000 570500001 ', 556500.0)\n"
     ]
    }
   ],
   "source": [
    "cursor.execute(\"select procedure_name, Max(cash_price) from hospital_prices group by procedure_name order by Max(cash_price) desc limit 10;\")\n",
    "top_expensive_procedures = cursor.fetchall()\n",
    "for row in top_expensive_procedures:\n",
    "    print(row)"
   ]
  },
  {
   "cell_type": "code",
   "execution_count": null,
   "id": "a4dd5812",
   "metadata": {},
   "outputs": [],
   "source": []
  }
 ],
 "metadata": {
  "kernelspec": {
   "display_name": "myenv",
   "language": "python",
   "name": "python3"
  },
  "language_info": {
   "codemirror_mode": {
    "name": "ipython",
    "version": 3
   },
   "file_extension": ".py",
   "mimetype": "text/x-python",
   "name": "python",
   "nbconvert_exporter": "python",
   "pygments_lexer": "ipython3",
   "version": "3.13.7"
  }
 },
 "nbformat": 4,
 "nbformat_minor": 5
}
